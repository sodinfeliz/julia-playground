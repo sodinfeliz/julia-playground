{
 "cells": [
  {
   "cell_type": "markdown",
   "id": "inclusive-robertson",
   "metadata": {},
   "source": [
    "# Check Julia Install "
   ]
  },
  {
   "cell_type": "code",
   "execution_count": 1,
   "id": "attempted-poker",
   "metadata": {},
   "outputs": [
    {
     "data": {
      "text/plain": [
       "\"hey \""
      ]
     },
     "execution_count": 1,
     "metadata": {},
     "output_type": "execute_result"
    }
   ],
   "source": [
    "s = \"hey \""
   ]
  },
  {
   "cell_type": "code",
   "execution_count": 2,
   "id": "demanding-bridge",
   "metadata": {},
   "outputs": [
    {
     "data": {
      "text/plain": [
       "\"hey hey hey \""
      ]
     },
     "execution_count": 2,
     "metadata": {},
     "output_type": "execute_result"
    }
   ],
   "source": [
    "s ^ 3  # just to make sure we're writing Julia and not python! "
   ]
  },
  {
   "cell_type": "code",
   "execution_count": 3,
   "id": "mighty-separation",
   "metadata": {},
   "outputs": [
    {
     "name": "stdout",
     "output_type": "stream",
     "text": [
      "Julia Version 1.7.0\n",
      "Commit 3bf9d17731 (2021-11-30 12:12 UTC)\n",
      "Platform Info:\n",
      "  OS: Windows (x86_64-w64-mingw32)\n",
      "  CPU: Intel(R) Core(TM) i7-4790 CPU @ 3.60GHz\n",
      "  WORD_SIZE: 64\n",
      "  LIBM: libopenlibm\n",
      "  LLVM: libLLVM-12.0.1 (ORCJIT, haswell)\n"
     ]
    }
   ],
   "source": [
    "versioninfo()"
   ]
  },
  {
   "cell_type": "code",
   "execution_count": 4,
   "id": "secondary-edition",
   "metadata": {},
   "outputs": [
    {
     "name": "stdout",
     "output_type": "stream",
     "text": [
      "Julia Version 1.7.0\n",
      "Commit 3bf9d17731 (2021-11-30 12:12 UTC)\n",
      "Platform Info:\n",
      "  OS: Windows (x86_64-w64-mingw32)\n",
      "      Microsoft Windows [Version 10.0.19044.1415]\n",
      "  CPU: Intel(R) Core(TM) i7-4790 CPU @ 3.60GHz: \n",
      "              speed         user         nice          sys         idle          irq\n",
      "       #1  3600 MHz    7087453            0      9684390    468604343      3766937  ticks\n",
      "       #2  3600 MHz    6817140            0      2467984    476090828       107640  ticks\n",
      "       #3  3600 MHz   19951156            0      7559984    457864796        77750  ticks\n",
      "       #4  3600 MHz    4854156            0      4219453    476302328       230796  ticks\n",
      "       #5  3600 MHz    9574109            0      6284203    469517625       246125  ticks\n",
      "       #6  3600 MHz    7001109            0      3090062    475284765        77500  ticks\n",
      "       #7  3600 MHz    8782187            0      3538703    473055046        69453  ticks\n",
      "       #8  3600 MHz    8323765            0      4082000    472970171        39937  ticks\n",
      "       \n",
      "  Memory: 31.889835357666016 GB (19273.43359375 MB free)\n",
      "  Uptime: 485369.0 sec\n",
      "  Load Avg:  0.0  0.0  0.0\n",
      "  WORD_SIZE: 64\n",
      "  LIBM: libopenlibm\n",
      "  LLVM: libLLVM-12.0.1 (ORCJIT, haswell)\n",
      "Environment:\n",
      "  CHOCOLATEYLASTPATHUPDATE = 132609446136561192\n",
      "  CUDA_PATH = C:\\Program Files\\NVIDIA GPU Computing Toolkit\\CUDA\\v10.1\n",
      "  CUDA_PATH_V10_1 = C:\\Program Files\\NVIDIA GPU Computing Toolkit\\CUDA\\v10.1\n",
      "  HOMEDRIVE = C:\n",
      "  HOMEPATH = \\Users\\elliotsu\n",
      "  NVTOOLSEXT_PATH = C:\\Program Files\\NVIDIA Corporation\\NvToolsExt\\\n",
      "  PATH = C:\\Anaconda3;C:\\Anaconda3\\Library\\mingw-w64\\bin;C:\\Anaconda3\\Library\\usr\\bin;C:\\Anaconda3\\Library\\bin;C:\\Anaconda3\\Scripts;C:\\Anaconda3\\bin;C:\\Anaconda3\\condabin;C:\\Anaconda3;C:\\Anaconda3\\Library\\mingw-w64\\bin;C:\\Anaconda3\\Library\\usr\\bin;C:\\Anaconda3\\Library\\bin;C:\\Anaconda3\\Scripts;C:\\Program Files\\Git\\usr\\local\\bin;C:\\Program Files\\Git\\bin;C:\\Program Files\\Java\\jdk-11.0.2\\bin;C:\\Program Files\\NVIDIA GPU Computing Toolkit\\CUDA\\v10.1\\bin;C:\\Program Files\\NVIDIA GPU Computing Toolkit\\CUDA\\v10.1\\libnvvp;C:\\Program Files\\NVIDIA GPU Computing Toolkit\\CUDA\\v10.1\\extras\\CUPTI\\lib64;C:\\Program Files\\NVIDIA GPU Computing Toolkit\\CUDA\\v10.1\\include;C:\\Program Files (x86)\\GnuWin32\\bin;C:\\MinGW\\bin;C:\\Windows\\system32;C:\\Windows;C:\\Windows\\System32\\Wbem;C:\\Windows\\System32\\WindowsPowerShell\\v1.0;C:\\Windows\\System32\\OpenSSH;C:\\Program Files (x86)\\NVIDIA Corporation\\PhysX\\Common;C:\\Program Files\\NVIDIA Corporation\\NVIDIA NvDLISR;C:\\Anaconda3;C:\\Anaconda3\\Scripts;C:\\Program Files\\PuTTY;C:\\Program Files\\PostgreSQL\\12\\bin;C:\\Julia-1.4.1\\bin;C:\\Program Files\\NVIDIA Corporation\\Nsight Compute 2019.4.0;C:\\Program Files (x86)\\Windows Kits\\8.1\\Windows Performance Toolkit;C:\\Program Files (x86)\\DVC (Data Version Control);C:\\Anaconda3\\envs\\pt16-py37\\Library\\bin\\graphviz;C:\\Program Files\\Git\\cmd;C:\\ProgramData\\chocolatey\\bin;.;C:\\Program Files\\Docker\\Docker\\resources\\bin;C:\\ProgramData\\DockerDesktop\\version-bin;C:\\Program Files\\PowerShell\\7;C:\\WINDOWS\\system32;C:\\WINDOWS;C:\\WINDOWS\\System32\\Wbem;C:\\WINDOWS\\System32\\WindowsPowerShell\\v1.0;C:\\WINDOWS\\System32\\OpenSSH;C:\\Users\\elliotsu\\scoop\\apps\\nodejs\\current\\bin;C:\\Users\\elliotsu\\scoop\\apps\\nodejs\\current;C:\\Users\\elliotsu\\scoop\\apps\\python\\current;C:\\Users\\elliotsu\\scoop\\apps\\python\\current\\Scripts;C:\\Users\\elliotsu\\scoop\\shims;C:\\Users\\elliotsu\\AppData\\Local\\Microsoft\\WindowsApps;C:\\Users\\elliotsu\\AppData\\Local\\GitHubDesktop\\bin;C:\\Users\\elliotsu\\AppData\\Local\\Programs\\Microsoft VS Code\\bin;C:\\Program Files\\JetBrains\\PyCharm Community Edition with Anaconda plugin 2019.3.3\\bin;C:\\Users\\elliotsu\\AppData\\Local\\atom\\bin;C:\\Users\\elliotsu\\AppData\\Local\\gitkraken\\bin;C:\\Users\\elliotsu\\AppData\\Local\\Microsoft\\WindowsApps;.;C:\\Users\\elliotsu\\AppData\\Local\\Programs\\Julia-1.7.0\\bin\n",
      "  PATHEXT = .COM;.EXE;.BAT;.CMD;.VBS;.VBE;.JS;.JSE;.WSF;.WSH;.MSC\n",
      "  PSMODULEPATH = C:\\Program Files\\WindowsPowerShell\\Modules;C:\\WINDOWS\\system32\\WindowsPowerShell\\v1.0\\Modules\n",
      "  VBOX_MSI_INSTALL_PATH = C:\\Program Files\\Oracle\\VirtualBox\\\n"
     ]
    }
   ],
   "source": [
    "versioninfo(verbose=true)"
   ]
  },
  {
   "cell_type": "code",
   "execution_count": null,
   "id": "0599d40c-d49d-4208-bf6b-d7219cff497a",
   "metadata": {},
   "outputs": [],
   "source": []
  }
 ],
 "metadata": {
  "kernelspec": {
   "display_name": "Julia 1.7.0",
   "language": "julia",
   "name": "julia-1.7"
  },
  "language_info": {
   "file_extension": ".jl",
   "mimetype": "application/julia",
   "name": "julia",
   "version": "1.7.0"
  }
 },
 "nbformat": 4,
 "nbformat_minor": 5
}
